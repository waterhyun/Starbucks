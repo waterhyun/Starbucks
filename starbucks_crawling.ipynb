{
 "cells": [
  {
   "cell_type": "code",
   "execution_count": 49,
   "id": "db1aec3f",
   "metadata": {},
   "outputs": [
    {
     "name": "stdout",
     "output_type": "stream",
     "text": [
      "Requirement already satisfied: requests in c:\\users\\user\\anaconda3\\lib\\site-packages (2.26.0)\n",
      "Requirement already satisfied: urllib3<1.27,>=1.21.1 in c:\\users\\user\\anaconda3\\lib\\site-packages (from requests) (1.26.7)\n",
      "Requirement already satisfied: certifi>=2017.4.17 in c:\\users\\user\\anaconda3\\lib\\site-packages (from requests) (2021.10.8)\n",
      "Requirement already satisfied: idna<4,>=2.5 in c:\\users\\user\\anaconda3\\lib\\site-packages (from requests) (3.2)\n",
      "Requirement already satisfied: charset-normalizer~=2.0.0 in c:\\users\\user\\anaconda3\\lib\\site-packages (from requests) (2.0.4)\n",
      "Requirement already satisfied: beautifulsoup4 in c:\\users\\user\\anaconda3\\lib\\site-packages (4.10.0)\n",
      "Requirement already satisfied: soupsieve>1.2 in c:\\users\\user\\anaconda3\\lib\\site-packages (from beautifulsoup4) (2.2.1)\n",
      "Requirement already satisfied: selenium in c:\\users\\user\\anaconda3\\lib\\site-packages (4.16.0)\n",
      "Requirement already satisfied: trio-websocket~=0.9 in c:\\users\\user\\anaconda3\\lib\\site-packages (from selenium) (0.9.2)\n",
      "Requirement already satisfied: urllib3[socks]<3,>=1.26 in c:\\users\\user\\anaconda3\\lib\\site-packages (from selenium) (1.26.7)\n",
      "Requirement already satisfied: trio~=0.17 in c:\\users\\user\\anaconda3\\lib\\site-packages (from selenium) (0.21.0)\n",
      "Requirement already satisfied: certifi>=2021.10.8 in c:\\users\\user\\anaconda3\\lib\\site-packages (from selenium) (2021.10.8)\n",
      "Requirement already satisfied: async-generator>=1.9 in c:\\users\\user\\anaconda3\\lib\\site-packages (from trio~=0.17->selenium) (1.10)\n",
      "Requirement already satisfied: cffi>=1.14 in c:\\users\\user\\anaconda3\\lib\\site-packages (from trio~=0.17->selenium) (1.14.6)\n",
      "Requirement already satisfied: attrs>=19.2.0 in c:\\users\\user\\anaconda3\\lib\\site-packages (from trio~=0.17->selenium) (21.2.0)\n",
      "Requirement already satisfied: outcome in c:\\users\\user\\anaconda3\\lib\\site-packages (from trio~=0.17->selenium) (1.2.0)\n",
      "Requirement already satisfied: idna in c:\\users\\user\\anaconda3\\lib\\site-packages (from trio~=0.17->selenium) (3.2)\n",
      "Requirement already satisfied: sortedcontainers in c:\\users\\user\\anaconda3\\lib\\site-packages (from trio~=0.17->selenium) (2.4.0)\n",
      "Requirement already satisfied: sniffio in c:\\users\\user\\anaconda3\\lib\\site-packages (from trio~=0.17->selenium) (1.2.0)\n",
      "Requirement already satisfied: pycparser in c:\\users\\user\\anaconda3\\lib\\site-packages (from cffi>=1.14->trio~=0.17->selenium) (2.20)\n",
      "Requirement already satisfied: wsproto>=0.14 in c:\\users\\user\\anaconda3\\lib\\site-packages (from trio-websocket~=0.9->selenium) (1.1.0)\n",
      "Requirement already satisfied: PySocks!=1.5.7,<2.0,>=1.5.6 in c:\\users\\user\\anaconda3\\lib\\site-packages (from urllib3[socks]<3,>=1.26->selenium) (1.7.1)\n",
      "Requirement already satisfied: h11<1,>=0.9.0 in c:\\users\\user\\anaconda3\\lib\\site-packages (from wsproto>=0.14->trio-websocket~=0.9->selenium) (0.13.0)\n"
     ]
    }
   ],
   "source": [
    "!pip install requests\n",
    "!pip install beautifulsoup4\n",
    "!pip install selenium"
   ]
  },
  {
   "cell_type": "code",
   "execution_count": 50,
   "id": "63c72299",
   "metadata": {},
   "outputs": [
    {
     "name": "stdout",
     "output_type": "stream",
     "text": [
      "Requirement already satisfied: selenium in c:\\users\\user\\anaconda3\\lib\\site-packages (4.16.0)\n",
      "Requirement already satisfied: trio-websocket~=0.9 in c:\\users\\user\\anaconda3\\lib\\site-packages (from selenium) (0.9.2)\n",
      "Requirement already satisfied: certifi>=2021.10.8 in c:\\users\\user\\anaconda3\\lib\\site-packages (from selenium) (2021.10.8)\n",
      "Requirement already satisfied: urllib3[socks]<3,>=1.26 in c:\\users\\user\\anaconda3\\lib\\site-packages (from selenium) (1.26.7)\n",
      "Requirement already satisfied: trio~=0.17 in c:\\users\\user\\anaconda3\\lib\\site-packages (from selenium) (0.21.0)\n",
      "Requirement already satisfied: sortedcontainers in c:\\users\\user\\anaconda3\\lib\\site-packages (from trio~=0.17->selenium) (2.4.0)\n",
      "Requirement already satisfied: sniffio in c:\\users\\user\\anaconda3\\lib\\site-packages (from trio~=0.17->selenium) (1.2.0)\n",
      "Requirement already satisfied: async-generator>=1.9 in c:\\users\\user\\anaconda3\\lib\\site-packages (from trio~=0.17->selenium) (1.10)\n",
      "Requirement already satisfied: idna in c:\\users\\user\\anaconda3\\lib\\site-packages (from trio~=0.17->selenium) (3.2)\n",
      "Requirement already satisfied: outcome in c:\\users\\user\\anaconda3\\lib\\site-packages (from trio~=0.17->selenium) (1.2.0)\n",
      "Requirement already satisfied: cffi>=1.14 in c:\\users\\user\\anaconda3\\lib\\site-packages (from trio~=0.17->selenium) (1.14.6)\n",
      "Requirement already satisfied: attrs>=19.2.0 in c:\\users\\user\\anaconda3\\lib\\site-packages (from trio~=0.17->selenium) (21.2.0)\n",
      "Requirement already satisfied: pycparser in c:\\users\\user\\anaconda3\\lib\\site-packages (from cffi>=1.14->trio~=0.17->selenium) (2.20)\n",
      "Requirement already satisfied: wsproto>=0.14 in c:\\users\\user\\anaconda3\\lib\\site-packages (from trio-websocket~=0.9->selenium) (1.1.0)\n",
      "Requirement already satisfied: PySocks!=1.5.7,<2.0,>=1.5.6 in c:\\users\\user\\anaconda3\\lib\\site-packages (from urllib3[socks]<3,>=1.26->selenium) (1.7.1)\n",
      "Requirement already satisfied: h11<1,>=0.9.0 in c:\\users\\user\\anaconda3\\lib\\site-packages (from wsproto>=0.14->trio-websocket~=0.9->selenium) (0.13.0)\n",
      "Note: you may need to restart the kernel to use updated packages.\n"
     ]
    }
   ],
   "source": [
    "pip install --upgrade selenium"
   ]
  },
  {
   "cell_type": "code",
   "execution_count": 51,
   "id": "afbf4a64",
   "metadata": {},
   "outputs": [],
   "source": [
    "# packages\n",
    "import requests\n",
    "from bs4 import BeautifulSoup as BS\n",
    "from selenium import webdriver\n",
    "import pandas as pd\n",
    "import numpy as np\n",
    "import os\n",
    "import warnings\n",
    "warnings.filterwarnings('ignore')"
   ]
  },
  {
   "cell_type": "code",
   "execution_count": 52,
   "id": "83f6667c",
   "metadata": {},
   "outputs": [],
   "source": [
    "# 스타벅스 url\n",
    "url = 'https://www.starbucks.co.kr/store/store_map.do'"
   ]
  },
  {
   "cell_type": "code",
   "execution_count": 53,
   "id": "1815ed5b",
   "metadata": {},
   "outputs": [],
   "source": [
    "chorme_driver = './chromedriver_win32/chromedriver.exe'\n",
    "driver = webdriver.Chrome(chorme_driver)\n",
    "\n",
    "# url open\n",
    "driver.get(url)\n",
    "\n",
    "# 최대 7초 대기\n",
    "driver.implicitly_wait(7)"
   ]
  },
  {
   "cell_type": "code",
   "execution_count": 54,
   "id": "5e6861e0",
   "metadata": {},
   "outputs": [],
   "source": [
    "import time\n",
    "\n",
    "# '지역 검색' 탭 클릭하기\n",
    "link_element = driver.find_element('link text', '지역 검색')\n",
    "link_element.click()\n",
    "\n",
    "# 서울 전체 클릭\n",
    "search =driver.find_element('link text', '서울')\n",
    "search.click()\n",
    "\n",
    "# 5초 대기\n",
    "time.sleep(5)\n",
    "\n",
    "search =driver.find_element('link text', '전체')\n",
    "search.click()"
   ]
  },
  {
   "cell_type": "code",
   "execution_count": 55,
   "id": "816e934a",
   "metadata": {},
   "outputs": [],
   "source": [
    "from selenium.webdriver.common.keys import Keys\n",
    "from selenium.webdriver.common.action_chains import ActionChains\n",
    "\n",
    "# 웹 페이지 맨 아래로 스크롤 할 수 있도록 함수 정의\n",
    "def scroll_down():\n",
    "    actions = ActionChains(driver)\n",
    "    actions.send_keys(Keys.END).perform()\n",
    "    time.sleep(3)\n",
    "\n",
    "for i in range(3):\n",
    "    scroll_down()"
   ]
  },
  {
   "cell_type": "code",
   "execution_count": 56,
   "id": "32e684d8",
   "metadata": {},
   "outputs": [],
   "source": [
    "# 파싱\n",
    "html_content = driver.page_source\n",
    "content = BS(html_content, 'html.parser')\n",
    "\n",
    "# 닫기\n",
    "driver.quit()"
   ]
  },
  {
   "cell_type": "markdown",
   "id": "16e87fd6",
   "metadata": {},
   "source": [
    "# 데이터 수집"
   ]
  },
  {
   "cell_type": "code",
   "execution_count": 57,
   "id": "5c2f28c8",
   "metadata": {
    "scrolled": true
   },
   "outputs": [
    {
     "data": {
      "text/plain": [
       "611"
      ]
     },
     "execution_count": 57,
     "metadata": {},
     "output_type": "execute_result"
    }
   ],
   "source": [
    "# 서울 스타벅스 개수\n",
    "starbucks_cnt = int(content.select('.sidoSetResult')[0].get_text(strip=True))\n",
    "starbucks_cnt"
   ]
  },
  {
   "cell_type": "code",
   "execution_count": 58,
   "id": "d513f63f",
   "metadata": {},
   "outputs": [],
   "source": [
    "import re\n",
    "starbucks = []\n",
    "stores = content.select('li[data-name]')\n",
    "for store in stores:\n",
    "    name = store['data-name']\n",
    "    y = store['data-lat'] # 위도\n",
    "    x = store['data-long'] #경도\n",
    "    \n",
    "    string = store.select('.result_details')[0].get_text(strip=True)\n",
    "    split_result = re.split(r'(\\d{4}-\\d{4})', string)\n",
    "    address = split_result[0].strip()\n",
    "    number = split_result[1].strip()\n",
    "    starbucks.append({'name': name, \n",
    "                    'address': address,\n",
    "                    'number': number,\n",
    "                    'x':x,\n",
    "                    'y':y})\n",
    "    \n",
    "starbucks = pd.DataFrame(starbucks)"
   ]
  },
  {
   "cell_type": "code",
   "execution_count": 59,
   "id": "eeb57465",
   "metadata": {},
   "outputs": [
    {
     "data": {
      "text/plain": [
       "name       0\n",
       "address    0\n",
       "number     0\n",
       "x          0\n",
       "y          0\n",
       "dtype: int64"
      ]
     },
     "execution_count": 59,
     "metadata": {},
     "output_type": "execute_result"
    }
   ],
   "source": [
    "# 결측치 확인하기\n",
    "starbucks.isna().sum()"
   ]
  },
  {
   "cell_type": "code",
   "execution_count": 60,
   "id": "35121fe6",
   "metadata": {},
   "outputs": [],
   "source": [
    "# 중복 삭제\n",
    "starbucks = starbucks[~starbucks.duplicated(keep='last')]"
   ]
  },
  {
   "cell_type": "code",
   "execution_count": 61,
   "id": "1c41ec9f",
   "metadata": {},
   "outputs": [],
   "source": [
    "# 경기도 제외\n",
    "starbucks = starbucks[~starbucks['address'].str.contains('경기도')]"
   ]
  },
  {
   "cell_type": "code",
   "execution_count": 62,
   "id": "0e1c5f7e",
   "metadata": {},
   "outputs": [],
   "source": [
    "# 필요없는 number 컬럼 삭제\n",
    "col = [col for col in starbucks.columns if col !='number']\n",
    "starbucks = starbucks[col]"
   ]
  },
  {
   "cell_type": "code",
   "execution_count": 63,
   "id": "8bde8b7e",
   "metadata": {},
   "outputs": [
    {
     "data": {
      "text/html": [
       "<div>\n",
       "<style scoped>\n",
       "    .dataframe tbody tr th:only-of-type {\n",
       "        vertical-align: middle;\n",
       "    }\n",
       "\n",
       "    .dataframe tbody tr th {\n",
       "        vertical-align: top;\n",
       "    }\n",
       "\n",
       "    .dataframe thead th {\n",
       "        text-align: right;\n",
       "    }\n",
       "</style>\n",
       "<table border=\"1\" class=\"dataframe\">\n",
       "  <thead>\n",
       "    <tr style=\"text-align: right;\">\n",
       "      <th></th>\n",
       "      <th>name</th>\n",
       "      <th>address</th>\n",
       "      <th>x</th>\n",
       "      <th>y</th>\n",
       "    </tr>\n",
       "  </thead>\n",
       "  <tbody>\n",
       "    <tr>\n",
       "      <th>10</th>\n",
       "      <td>역삼아레나빌딩</td>\n",
       "      <td>서울특별시 강남구 언주로 425 (역삼동)</td>\n",
       "      <td>127.043069</td>\n",
       "      <td>37.501087</td>\n",
       "    </tr>\n",
       "    <tr>\n",
       "      <th>11</th>\n",
       "      <td>논현역사거리</td>\n",
       "      <td>서울특별시 강남구 강남대로 538 (논현동)</td>\n",
       "      <td>127.022223</td>\n",
       "      <td>37.510178</td>\n",
       "    </tr>\n",
       "    <tr>\n",
       "      <th>12</th>\n",
       "      <td>신사역성일빌딩</td>\n",
       "      <td>서울특별시 강남구 강남대로 584 (논현동)</td>\n",
       "      <td>127.0206057</td>\n",
       "      <td>37.5139309</td>\n",
       "    </tr>\n",
       "    <tr>\n",
       "      <th>13</th>\n",
       "      <td>국기원사거리</td>\n",
       "      <td>서울특별시 강남구 테헤란로 125 (역삼동)</td>\n",
       "      <td>127.031495</td>\n",
       "      <td>37.499517</td>\n",
       "    </tr>\n",
       "    <tr>\n",
       "      <th>14</th>\n",
       "      <td>대치재경빌딩</td>\n",
       "      <td>서울특별시 강남구 남부순환로 2947 (대치동)</td>\n",
       "      <td>127.062583</td>\n",
       "      <td>37.494668</td>\n",
       "    </tr>\n",
       "    <tr>\n",
       "      <th>...</th>\n",
       "      <td>...</td>\n",
       "      <td>...</td>\n",
       "      <td>...</td>\n",
       "      <td>...</td>\n",
       "    </tr>\n",
       "    <tr>\n",
       "      <th>616</th>\n",
       "      <td>사가정역</td>\n",
       "      <td>서울특별시 중랑구 면목로 310</td>\n",
       "      <td>127.087966</td>\n",
       "      <td>37.579594</td>\n",
       "    </tr>\n",
       "    <tr>\n",
       "      <th>617</th>\n",
       "      <td>상봉역</td>\n",
       "      <td>서울특별시 중랑구 망우로 307 (상봉동)</td>\n",
       "      <td>127.08647</td>\n",
       "      <td>37.59689</td>\n",
       "    </tr>\n",
       "    <tr>\n",
       "      <th>618</th>\n",
       "      <td>묵동</td>\n",
       "      <td>서울특별시 중랑구 동일로 952 (묵동, 로프트원 태릉입구역) 1층</td>\n",
       "      <td>127.076633</td>\n",
       "      <td>37.615368</td>\n",
       "    </tr>\n",
       "    <tr>\n",
       "      <th>619</th>\n",
       "      <td>양원역</td>\n",
       "      <td>서울특별시 중랑구 양원역로10길 3 (망우동)</td>\n",
       "      <td>127.106359790053</td>\n",
       "      <td>37.6066536267232</td>\n",
       "    </tr>\n",
       "    <tr>\n",
       "      <th>620</th>\n",
       "      <td>중화역</td>\n",
       "      <td>서울특별시 중랑구 봉화산로 35</td>\n",
       "      <td>127.07841136432036</td>\n",
       "      <td>37.60170912407773</td>\n",
       "    </tr>\n",
       "  </tbody>\n",
       "</table>\n",
       "<p>611 rows × 4 columns</p>\n",
       "</div>"
      ],
      "text/plain": [
       "        name                                address                   x  \\\n",
       "10   역삼아레나빌딩                서울특별시 강남구 언주로 425 (역삼동)          127.043069   \n",
       "11    논현역사거리               서울특별시 강남구 강남대로 538 (논현동)          127.022223   \n",
       "12   신사역성일빌딩               서울특별시 강남구 강남대로 584 (논현동)         127.0206057   \n",
       "13    국기원사거리               서울특별시 강남구 테헤란로 125 (역삼동)          127.031495   \n",
       "14    대치재경빌딩             서울특별시 강남구 남부순환로 2947 (대치동)          127.062583   \n",
       "..       ...                                    ...                 ...   \n",
       "616     사가정역                      서울특별시 중랑구 면목로 310          127.087966   \n",
       "617      상봉역                서울특별시 중랑구 망우로 307 (상봉동)           127.08647   \n",
       "618       묵동  서울특별시 중랑구 동일로 952 (묵동, 로프트원 태릉입구역) 1층          127.076633   \n",
       "619      양원역              서울특별시 중랑구 양원역로10길 3 (망우동)    127.106359790053   \n",
       "620      중화역                      서울특별시 중랑구 봉화산로 35  127.07841136432036   \n",
       "\n",
       "                     y  \n",
       "10           37.501087  \n",
       "11           37.510178  \n",
       "12          37.5139309  \n",
       "13           37.499517  \n",
       "14           37.494668  \n",
       "..                 ...  \n",
       "616          37.579594  \n",
       "617           37.59689  \n",
       "618          37.615368  \n",
       "619   37.6066536267232  \n",
       "620  37.60170912407773  \n",
       "\n",
       "[611 rows x 4 columns]"
      ]
     },
     "execution_count": 63,
     "metadata": {},
     "output_type": "execute_result"
    }
   ],
   "source": [
    "starbucks"
   ]
  },
  {
   "cell_type": "code",
   "execution_count": 32,
   "id": "570cd4e1",
   "metadata": {},
   "outputs": [],
   "source": [
    "# 데이터 저장\n",
    "starbucks.to_csv('./starbucks_data.csv', encoding='cp949', index=False)"
   ]
  }
 ],
 "metadata": {
  "kernelspec": {
   "display_name": "Python 3 (ipykernel)",
   "language": "python",
   "name": "python3"
  },
  "language_info": {
   "codemirror_mode": {
    "name": "ipython",
    "version": 3
   },
   "file_extension": ".py",
   "mimetype": "text/x-python",
   "name": "python",
   "nbconvert_exporter": "python",
   "pygments_lexer": "ipython3",
   "version": "3.9.7"
  },
  "toc": {
   "base_numbering": 1,
   "nav_menu": {},
   "number_sections": true,
   "sideBar": true,
   "skip_h1_title": false,
   "title_cell": "Table of Contents",
   "title_sidebar": "Contents",
   "toc_cell": false,
   "toc_position": {},
   "toc_section_display": true,
   "toc_window_display": false
  }
 },
 "nbformat": 4,
 "nbformat_minor": 5
}
